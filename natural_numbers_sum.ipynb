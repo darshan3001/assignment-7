{
  "nbformat": 4,
  "nbformat_minor": 0,
  "metadata": {
    "colab": {
      "name": "natural numbers sum",
      "provenance": []
    },
    "kernelspec": {
      "name": "python3",
      "display_name": "Python 3"
    }
  },
  "cells": [
    {
      "cell_type": "code",
      "metadata": {
        "id": "xyYRS-dqc9H1",
        "colab_type": "code",
        "colab": {
          "base_uri": "https://localhost:8080/",
          "height": 50
        },
        "outputId": "55ea592e-93b8-400e-bf28-34fbdc6c02fd"
      },
      "source": [
        "num=int(input(\"enter the number of terms:\"))\n",
        "sum=0\n",
        "i=1\n",
        "while i<=num:\n",
        "  sum=sum+i\n",
        "  i=i+1\n",
        "print(\"the sum of first\",num,\"natural numbers is\",sum)"
      ],
      "execution_count": 3,
      "outputs": [
        {
          "output_type": "stream",
          "text": [
            "enter the number of terms:10\n",
            "the sum of first 10 natural numbers is 55\n"
          ],
          "name": "stdout"
        }
      ]
    },
    {
      "cell_type": "code",
      "metadata": {
        "id": "4npflDLihA93",
        "colab_type": "code",
        "colab": {}
      },
      "source": [
        ""
      ],
      "execution_count": null,
      "outputs": []
    }
  ]
}