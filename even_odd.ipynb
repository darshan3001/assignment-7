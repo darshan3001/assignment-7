{
  "nbformat": 4,
  "nbformat_minor": 0,
  "metadata": {
    "colab": {
      "name": "even/odd",
      "provenance": []
    },
    "kernelspec": {
      "name": "python3",
      "display_name": "Python 3"
    }
  },
  "cells": [
    {
      "cell_type": "code",
      "metadata": {
        "id": "bHqTaHMahnG0",
        "colab_type": "code",
        "colab": {
          "base_uri": "https://localhost:8080/",
          "height": 50
        },
        "outputId": "e2662369-b93c-4692-992f-5a4342ee6135"
      },
      "source": [
        "list=[1,2,3,4,5,6,7,8,9]\n",
        "even_count,odd_count=0,0\n",
        "for num in list:\n",
        "  if num%2==0:\n",
        "    even_count += 1\n",
        "  else:\n",
        "    odd_count +=1\n",
        "print(\"even numbers in the list:\",even_count)\n",
        "print(\"odd numbers in the list:\",odd_count)"
      ],
      "execution_count": 1,
      "outputs": [
        {
          "output_type": "stream",
          "text": [
            "even numbers in the list: 4\n",
            "odd numbers in the list: 5\n"
          ],
          "name": "stdout"
        }
      ]
    },
    {
      "cell_type": "code",
      "metadata": {
        "id": "g_Wfuu76i2uB",
        "colab_type": "code",
        "colab": {}
      },
      "source": [
        ""
      ],
      "execution_count": null,
      "outputs": []
    }
  ]
}